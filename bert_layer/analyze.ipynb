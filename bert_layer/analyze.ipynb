{
 "cells": [
  {
   "cell_type": "code",
   "execution_count": 1,
   "metadata": {},
   "outputs": [],
   "source": [
    "import pandas as pd\n",
    "from wic_bert_layer_evaluation import analyze_wic_with_bert_layers"
   ]
  },
  {
   "cell_type": "code",
   "execution_count": 3,
   "metadata": {},
   "outputs": [
    {
     "name": "stderr",
     "output_type": "stream",
     "text": [
      "/Users/sanjeepan/servers/miniconda3/lib/python3.12/site-packages/huggingface_hub/file_download.py:1132: FutureWarning: `resume_download` is deprecated and will be removed in version 1.0.0. Downloads always resume when possible. If you want to force a new download, use `force_download=True`.\n",
      "  warnings.warn(\n"
     ]
    },
    {
     "name": "stdout",
     "output_type": "stream",
     "text": [
      "Loading WiC data...\n",
      "Extracting embeddings from all BERT layers...\n"
     ]
    },
    {
     "name": "stderr",
     "output_type": "stream",
     "text": [
      "Extracting embeddings: 100%|██████████| 128/128 [00:09<00:00, 12.84it/s]\n"
     ]
    },
    {
     "name": "stdout",
     "output_type": "stream",
     "text": [
      "Evaluating layers using cosine similarity...\n",
      "Evaluating layers using logistic regression...\n",
      "Generating embedding visualization data...\n",
      "Generating t-SNE for layer 0...\n",
      "Generating t-SNE for layer 6...\n",
      "Generating t-SNE for layer 12...\n",
      "Analyzing specific examples...\n",
      "Best performing layer: 7 with accuracy 0.8203\n",
      "Worst performing layer: 0 with accuracy 0.6250\n",
      "All results saved to visualization_data/bert_wic.json\n",
      "\n",
      "Analysis complete. Results saved to visualization_data/bert_wic.json\n"
     ]
    }
   ],
   "source": [
    "df = pd.read_csv(\"datasets/dataset_wic_en.tsv\", sep=\"\\t\")\n",
    "df.columns = [\"Target\", \"context1\", \"context2\", \"label\"]\n",
    "\n",
    "results = analyze_wic_with_bert_layers(df,output_path=\"visualization_data/bert_wic.json\")"
   ]
  },
  {
   "cell_type": "code",
   "execution_count": null,
   "metadata": {},
   "outputs": [],
   "source": []
  }
 ],
 "metadata": {
  "kernelspec": {
   "display_name": "base",
   "language": "python",
   "name": "python3"
  },
  "language_info": {
   "codemirror_mode": {
    "name": "ipython",
    "version": 3
   },
   "file_extension": ".py",
   "mimetype": "text/x-python",
   "name": "python",
   "nbconvert_exporter": "python",
   "pygments_lexer": "ipython3",
   "version": "3.12.2"
  }
 },
 "nbformat": 4,
 "nbformat_minor": 2
}
